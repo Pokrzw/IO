{
 "cells": [
  {
   "cell_type": "code",
   "execution_count": null,
   "id": "dad5de78-1483-4640-9adc-5a8569f3f0ab",
   "metadata": {},
   "outputs": [],
   "source": [
    "zad2"
   ]
  }
 ],
 "metadata": {
  "kernelspec": {
   "display_name": "Python 3 (ipykernel)",
   "language": "python",
   "name": "python3"
  },
  "language_info": {
   "codemirror_mode": {
    "name": "ipython",
    "version": 3
   },
   "file_extension": ".py",
   "mimetype": "text/x-python",
   "name": "python",
   "nbconvert_exporter": "python",
   "pygments_lexer": "ipython3",
   "version": "3.10.10"
  }
 },
 "nbformat": 4,
 "nbformat_minor": 5
}
