{
 "cells": [
  {
   "cell_type": "code",
   "execution_count": 1,
   "id": "1b88ed3b-8610-44c7-890c-7f797c51e879",
   "metadata": {
    "tags": []
   },
   "outputs": [
    {
     "data": {
      "image/png": "[encoded data removed]",
      "text/plain": [
       "<Figure size 640x480 with 1 Axes>"
      ]
     },
     "metadata": {},
     "output_type": "display_data"
    }
   ],
   "source": [
    "#a\n",
    "import numpy as np\n",
    "from matplotlib import pyplot as plt\n",
    "\n",
    "# tworzymy tablice o wymiarach 128x128x3 (3 kanaly to RGB)\n",
    "# uzupelnioną zerami = kolor czarny\n",
    "data = np.zeros((128, 128, 3), dtype=np.uint8)\n",
    "\n",
    "\n",
    "# chcemy zeby obrazek byl czarnobialy,\n",
    "# wiec wszystkie trzy kanaly rgb uzupelniamy tymi samymi liczbami\n",
    "# napiszmy do tego funkcje\n",
    "def draw(img, x, y, color):\n",
    "    img[x, y] = [color, color, color]\n",
    "\n",
    "\n",
    "# zamalowanie 4 pikseli w lewym górnym rogu\n",
    "draw(data, 5, 5, 100)\n",
    "draw(data, 6, 6, 100)\n",
    "draw(data, 5, 6, 255)\n",
    "draw(data, 6, 5, 255)\n",
    "\n",
    "\n",
    "# rysowanie kilku figur na obrazku\n",
    "for i in range(128):\n",
    "    for j in range(128):\n",
    "        if (i-64)**2 + (j-64)**2 < 900:\n",
    "            draw(data, i, j, 200)\n",
    "        elif i > 100 and j > 100:\n",
    "            draw(data, i, j, 255)\n",
    "        elif (i-15)**2 + (j-110)**2 < 25:\n",
    "            draw(data, i, j, 150)\n",
    "        elif (i-15)**2 + (j-110)**2 == 25 or (i-15)**2 + (j-110)**2 == 26:\n",
    "            draw(data, i, j, 255)\n",
    "\n",
    "# konwersja macierzy na obrazek i wyświetlenie\n",
    "plt.imshow(data, interpolation='nearest')\n",
    "plt.show()\n"
   ]
  },
  {
   "cell_type": "code",
   "execution_count": null,
   "id": "f16b2ac9-6a33-40a5-82c0-ba0c1f57dee5",
   "metadata": {},
   "outputs": [],
   "source": []
  }
 ],
 "metadata": {
  "kernelspec": {
   "display_name": "Python 3 (ipykernel)",
   "language": "python",
   "name": "python3"
  },
  "language_info": {
   "codemirror_mode": {
    "name": "ipython",
    "version": 3
   },
   "file_extension": ".py",
   "mimetype": "text/x-python",
   "name": "python",
   "nbconvert_exporter": "python",
   "pygments_lexer": "ipython3",
   "version": "3.10.10"
  }
 },
 "nbformat": 4,
 "nbformat_minor": 5
}
