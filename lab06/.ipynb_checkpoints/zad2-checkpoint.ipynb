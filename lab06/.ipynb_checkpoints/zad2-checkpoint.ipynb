{
 "cells": [
  {
   "cell_type": "code",
   "execution_count": 21,
   "id": "aa9064f8-34f4-4780-bcc9-fcd7490954a6",
   "metadata": {
    "tags": []
   },
   "outputs": [],
   "source": [
    "import sklearn\n",
    "from sklearn.datasets import load_iris\n",
    "from sklearn.neural_network import MLPClassifier\n",
    "from sklearn.model_selection import train_test_split\n",
    "\n",
    "iris = load_iris()\n",
    "datasets = train_test_split(iris.data, iris.target,\n",
    "                            test_size=0.3)\n",
    "\n",
    "train_data, test_data, train_labels, test_labels = datasets\n",
    "\n",
    "print(datasets)"
   ]
  },
  {
   "cell_type": "code",
   "execution_count": 41,
   "id": "8826e5bb-bbda-42ba-9d9f-0b606c9c6e61",
   "metadata": {
    "tags": []
   },
   "outputs": [
    {
     "data": {
      "text/plain": [
       "0.9809523809523809"
      ]
     },
     "execution_count": 41,
     "metadata": {},
     "output_type": "execute_result"
    }
   ],
   "source": [
    "#d)\n",
    "\n",
    "clf = MLPClassifier(solver='lbfgs', \n",
    "                    hidden_layer_sizes=(2,))\n",
    "\n",
    "clf.fit(train_data, train_labels)\n",
    "clf.score(train_data, train_labels)"
   ]
  },
  {
   "cell_type": "code",
   "execution_count": 42,
   "id": "2be5c553-a787-4eb4-b7a5-3cc5d4461b5b",
   "metadata": {
    "tags": []
   },
   "outputs": [
    {
     "data": {
      "text/plain": [
       "0.37142857142857144"
      ]
     },
     "execution_count": 42,
     "metadata": {},
     "output_type": "execute_result"
    }
   ],
   "source": [
    "#f)\n",
    "clf = MLPClassifier(solver='lbfgs', \n",
    "                    hidden_layer_sizes=(3,))\n",
    "\n",
    "clf.fit(train_data, train_labels)\n",
    "clf.score(train_data, train_labels)"
   ]
  },
  {
   "cell_type": "code",
   "execution_count": 43,
   "id": "ff805345-6a8a-4d53-8577-e9f43561fe45",
   "metadata": {
    "tags": []
   },
   "outputs": [
    {
     "data": {
      "text/plain": [
       "0.9904761904761905"
      ]
     },
     "execution_count": 43,
     "metadata": {},
     "output_type": "execute_result"
    }
   ],
   "source": [
    "#g)\n",
    "clf = MLPClassifier(solver='lbfgs', \n",
    "                    hidden_layer_sizes=(3,2),\n",
    "                    max_iter = 5000\n",
    "                   )\n",
    "\n",
    "clf.fit(train_data, train_labels)\n",
    "clf.score(train_data, train_labels)"
   ]
  }
 ],
 "metadata": {
  "kernelspec": {
   "display_name": "Python 3 (ipykernel)",
   "language": "python",
   "name": "python3"
  },
  "language_info": {
   "codemirror_mode": {
    "name": "ipython",
    "version": 3
   },
   "file_extension": ".py",
   "mimetype": "text/x-python",
   "name": "python",
   "nbconvert_exporter": "python",
   "pygments_lexer": "ipython3",
   "version": "3.10.10"
  }
 },
 "nbformat": 4,
 "nbformat_minor": 5
}
