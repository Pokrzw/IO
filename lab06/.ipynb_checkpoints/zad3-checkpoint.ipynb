{
 "cells": [
  {
   "cell_type": "code",
   "execution_count": 38,
   "id": "c28a4a84-47a5-4a21-847a-1adf747e5cd8",
   "metadata": {
    "tags": []
   },
   "outputs": [],
   "source": [
    "#importy\n",
    "import sklearn\n",
    "import pandas as pd\n",
    "from sklearn.neural_network import MLPClassifier\n",
    "from sklearn.model_selection import train_test_split\n",
    "from sklearn.metrics import classification_report,confusion_matrix"
   ]
  },
  {
   "cell_type": "code",
   "execution_count": 39,
   "id": "93748188-8692-4afb-ad07-7350640c4183",
   "metadata": {},
   "outputs": [
    {
     "name": "stderr",
     "output_type": "stream",
     "text": [
      "/tmp/ipykernel_2207/2131511705.py:4: SettingWithCopyWarning: \n",
      "A value is trying to be set on a copy of a slice from a DataFrame\n",
      "\n",
      "See the caveats in the documentation: https://pandas.pydata.org/pandas-docs/stable/user_guide/indexing.html#returning-a-view-versus-a-copy\n",
      "  df['class'].loc[(df['class'] == \"tested_positive\")] = 1\n",
      "/tmp/ipykernel_2207/2131511705.py:5: SettingWithCopyWarning: \n",
      "A value is trying to be set on a copy of a slice from a DataFrame\n",
      "\n",
      "See the caveats in the documentation: https://pandas.pydata.org/pandas-docs/stable/user_guide/indexing.html#returning-a-view-versus-a-copy\n",
      "  df['class'].loc[(df['class'] == \"tested_negative\")] = 0\n"
     ]
    }
   ],
   "source": [
    "#konwersja wynikow na 0 - negatywny lub 1 - pozytywny\n",
    "df = pd.read_csv('diabetes.csv')\n",
    "\n",
    "df['class'].loc[(df['class'] == \"tested_positive\")] = 1\n",
    "df['class'].loc[(df['class'] == \"tested_negative\")] = 0"
   ]
  },
  {
   "cell_type": "code",
   "execution_count": 40,
   "id": "75130526-74fc-4721-8b54-5f6c1859a83c",
   "metadata": {
    "tags": []
   },
   "outputs": [
    {
     "data": {
      "text/html": [
       "<div>\n",
       "<style scoped>\n",
       "    .dataframe tbody tr th:only-of-type {\n",
       "        vertical-align: middle;\n",
       "    }\n",
       "\n",
       "    .dataframe tbody tr th {\n",
       "        vertical-align: top;\n",
       "    }\n",
       "\n",
       "    .dataframe thead th {\n",
       "        text-align: right;\n",
       "    }\n",
       "</style>\n",
       "<table border=\"1\" class=\"dataframe\">\n",
       "  <thead>\n",
       "    <tr style=\"text-align: right;\">\n",
       "      <th></th>\n",
       "      <th>count</th>\n",
       "      <th>mean</th>\n",
       "      <th>std</th>\n",
       "      <th>min</th>\n",
       "      <th>25%</th>\n",
       "      <th>50%</th>\n",
       "      <th>75%</th>\n",
       "      <th>max</th>\n",
       "    </tr>\n",
       "  </thead>\n",
       "  <tbody>\n",
       "    <tr>\n",
       "      <th>pregnant-times</th>\n",
       "      <td>768.0</td>\n",
       "      <td>0.226180</td>\n",
       "      <td>0.198210</td>\n",
       "      <td>0.000000</td>\n",
       "      <td>0.058824</td>\n",
       "      <td>0.176471</td>\n",
       "      <td>0.352941</td>\n",
       "      <td>1.0</td>\n",
       "    </tr>\n",
       "    <tr>\n",
       "      <th>glucose-concentr</th>\n",
       "      <td>768.0</td>\n",
       "      <td>0.607510</td>\n",
       "      <td>0.160666</td>\n",
       "      <td>0.000000</td>\n",
       "      <td>0.497487</td>\n",
       "      <td>0.587940</td>\n",
       "      <td>0.704774</td>\n",
       "      <td>1.0</td>\n",
       "    </tr>\n",
       "    <tr>\n",
       "      <th>blood-pressure</th>\n",
       "      <td>768.0</td>\n",
       "      <td>0.566438</td>\n",
       "      <td>0.158654</td>\n",
       "      <td>0.000000</td>\n",
       "      <td>0.508197</td>\n",
       "      <td>0.590164</td>\n",
       "      <td>0.655738</td>\n",
       "      <td>1.0</td>\n",
       "    </tr>\n",
       "    <tr>\n",
       "      <th>skin-thickness</th>\n",
       "      <td>768.0</td>\n",
       "      <td>0.207439</td>\n",
       "      <td>0.161134</td>\n",
       "      <td>0.000000</td>\n",
       "      <td>0.000000</td>\n",
       "      <td>0.232323</td>\n",
       "      <td>0.323232</td>\n",
       "      <td>1.0</td>\n",
       "    </tr>\n",
       "    <tr>\n",
       "      <th>insulin</th>\n",
       "      <td>768.0</td>\n",
       "      <td>0.094326</td>\n",
       "      <td>0.136222</td>\n",
       "      <td>0.000000</td>\n",
       "      <td>0.000000</td>\n",
       "      <td>0.036052</td>\n",
       "      <td>0.150414</td>\n",
       "      <td>1.0</td>\n",
       "    </tr>\n",
       "    <tr>\n",
       "      <th>mass-index</th>\n",
       "      <td>768.0</td>\n",
       "      <td>0.476790</td>\n",
       "      <td>0.117499</td>\n",
       "      <td>0.000000</td>\n",
       "      <td>0.406855</td>\n",
       "      <td>0.476900</td>\n",
       "      <td>0.545455</td>\n",
       "      <td>1.0</td>\n",
       "    </tr>\n",
       "    <tr>\n",
       "      <th>pedigree-func</th>\n",
       "      <td>768.0</td>\n",
       "      <td>0.194990</td>\n",
       "      <td>0.136913</td>\n",
       "      <td>0.032231</td>\n",
       "      <td>0.100723</td>\n",
       "      <td>0.153926</td>\n",
       "      <td>0.258781</td>\n",
       "      <td>1.0</td>\n",
       "    </tr>\n",
       "    <tr>\n",
       "      <th>age</th>\n",
       "      <td>768.0</td>\n",
       "      <td>0.410381</td>\n",
       "      <td>0.145188</td>\n",
       "      <td>0.259259</td>\n",
       "      <td>0.296296</td>\n",
       "      <td>0.358025</td>\n",
       "      <td>0.506173</td>\n",
       "      <td>1.0</td>\n",
       "    </tr>\n",
       "  </tbody>\n",
       "</table>\n",
       "</div>"
      ],
      "text/plain": [
       "                  count      mean       std       min       25%       50%  \\\n",
       "pregnant-times    768.0  0.226180  0.198210  0.000000  0.058824  0.176471   \n",
       "glucose-concentr  768.0  0.607510  0.160666  0.000000  0.497487  0.587940   \n",
       "blood-pressure    768.0  0.566438  0.158654  0.000000  0.508197  0.590164   \n",
       "skin-thickness    768.0  0.207439  0.161134  0.000000  0.000000  0.232323   \n",
       "insulin           768.0  0.094326  0.136222  0.000000  0.000000  0.036052   \n",
       "mass-index        768.0  0.476790  0.117499  0.000000  0.406855  0.476900   \n",
       "pedigree-func     768.0  0.194990  0.136913  0.032231  0.100723  0.153926   \n",
       "age               768.0  0.410381  0.145188  0.259259  0.296296  0.358025   \n",
       "\n",
       "                       75%  max  \n",
       "pregnant-times    0.352941  1.0  \n",
       "glucose-concentr  0.704774  1.0  \n",
       "blood-pressure    0.655738  1.0  \n",
       "skin-thickness    0.323232  1.0  \n",
       "insulin           0.150414  1.0  \n",
       "mass-index        0.545455  1.0  \n",
       "pedigree-func     0.258781  1.0  \n",
       "age               0.506173  1.0  "
      ]
     },
     "execution_count": 40,
     "metadata": {},
     "output_type": "execute_result"
    }
   ],
   "source": [
    "target_column = ['class']\n",
    "predictors = list(set(list(df.columns))-set(target_column))\n",
    "df[predictors] = df[predictors]/df[predictors].max()\n",
    "df.describe().transpose()"
   ]
  },
  {
   "cell_type": "code",
   "execution_count": 41,
   "id": "fc37c346-8800-4162-bfaa-2233b470650f",
   "metadata": {
    "tags": []
   },
   "outputs": [],
   "source": [
    "#training and test datasets\n",
    "\n",
    "X = df[predictors].values\n",
    "y = list(df['class'])\n",
    "\n",
    "\n",
    "X_train, X_test, y_train, y_test = train_test_split(X, y, test_size=0.30, random_state=40)"
   ]
  },
  {
   "cell_type": "code",
   "execution_count": 42,
   "id": "7261f2aa-b828-4090-bce3-8041247a2d1f",
   "metadata": {
    "tags": []
   },
   "outputs": [],
   "source": [
    "#tworzenie sieci neuronowej\n",
    "\n",
    "mlp = MLPClassifier(hidden_layer_sizes=(8,8,8), activation='relu', solver='adam', max_iter=500)\n",
    "\n",
    "mlp.fit(X_train,y_train)\n",
    "predict_train = mlp.predict(X_train)\n",
    "predict_test = mlp.predict(X_test)"
   ]
  },
  {
   "cell_type": "code",
   "execution_count": 43,
   "id": "3f4c299e-e76f-4225-a242-aded01780c0b",
   "metadata": {
    "tags": []
   },
   "outputs": [
    {
     "name": "stdout",
     "output_type": "stream",
     "text": [
      "[[318  40]\n",
      " [ 71 108]]\n",
      "              precision    recall  f1-score   support\n",
      "\n",
      "           0       0.82      0.89      0.85       358\n",
      "           1       0.73      0.60      0.66       179\n",
      "\n",
      "    accuracy                           0.79       537\n",
      "   macro avg       0.77      0.75      0.76       537\n",
      "weighted avg       0.79      0.79      0.79       537\n",
      "\n"
     ]
    }
   ],
   "source": [
    "print(confusion_matrix(y_train,predict_train))\n",
    "print(classification_report(y_train,predict_train))"
   ]
  },
  {
   "cell_type": "code",
   "execution_count": null,
   "id": "e7b5af04-410e-42a5-921f-254fc5dbf32b",
   "metadata": {},
   "outputs": [],
   "source": []
  }
 ],
 "metadata": {
  "kernelspec": {
   "display_name": "Python 3 (ipykernel)",
   "language": "python",
   "name": "python3"
  },
  "language_info": {
   "codemirror_mode": {
    "name": "ipython",
    "version": 3
   },
   "file_extension": ".py",
   "mimetype": "text/x-python",
   "name": "python",
   "nbconvert_exporter": "python",
   "pygments_lexer": "ipython3",
   "version": "3.10.10"
  }
 },
 "nbformat": 4,
 "nbformat_minor": 5
}
