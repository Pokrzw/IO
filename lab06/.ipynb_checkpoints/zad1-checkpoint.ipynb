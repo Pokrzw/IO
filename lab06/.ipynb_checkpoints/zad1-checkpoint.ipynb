{
 "cells": [
  {
   "cell_type": "code",
   "execution_count": 16,
   "id": "f7066bc0-d7af-4614-aed8-e3f8ba96a2bc",
   "metadata": {
    "tags": []
   },
   "outputs": [
    {
     "name": "stdout",
     "output_type": "stream",
     "text": [
      "0.7985341880063129\n"
     ]
    }
   ],
   "source": [
    "import math\n",
    "e = math.e\n",
    "\n",
    "def transformFx(x):\n",
    "    return 1/(1 + e**(-x))\n",
    "\n",
    "def forwardPass(wiek, waga, wzrost):\n",
    "    weights = [-0.46122, 0.97314 , -0.39203, 0.78548,  2.10584, -0.57847, -0.81546, 1.03775]\n",
    "    biases = [0.80109, 0.43529, -0.2368]\n",
    "    \n",
    "    hidden1 = wiek * weights[0] + waga * weights[1] + wzrost * weights[2] + biases[0]\n",
    "    hidden1_po_aktywacji = transformFx(hidden1)\n",
    "    \n",
    "    hidden2 = wiek * weights[3] + waga * weights[4] + wzrost * weights[5] + biases[1]\n",
    "    hidden2_po_aktywacji = transformFx(hidden2)\n",
    "    \n",
    "    output = hidden1_po_aktywacji * weights[6] + hidden2_po_aktywacji * weights[7] + biases[2]\n",
    "    return output \n",
    "    \n",
    "\n",
    "print(forwardPass(23, 75, 176))"
   ]
  },
  {
   "cell_type": "code",
   "execution_count": null,
   "id": "d01a7188-a71a-408b-9e7b-44d6b236ccdb",
   "metadata": {},
   "outputs": [],
   "source": []
  }
 ],
 "metadata": {
  "kernelspec": {
   "display_name": "Python 3 (ipykernel)",
   "language": "python",
   "name": "python3"
  },
  "language_info": {
   "codemirror_mode": {
    "name": "ipython",
    "version": 3
   },
   "file_extension": ".py",
   "mimetype": "text/x-python",
   "name": "python",
   "nbconvert_exporter": "python",
   "pygments_lexer": "ipython3",
   "version": "3.10.10"
  }
 },
 "nbformat": 4,
 "nbformat_minor": 5
}
